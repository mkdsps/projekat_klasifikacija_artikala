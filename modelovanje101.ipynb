{
 "cells": [
  {
   "cell_type": "code",
   "execution_count": 4,
   "metadata": {},
   "outputs": [],
   "source": [
    "import pandas as pd\n",
    "from sklearn.feature_extraction.text import TfidfVectorizer\n",
    "from sklearn.preprocessing import LabelEncoder"
   ]
  },
  {
   "cell_type": "code",
   "execution_count": 5,
   "metadata": {},
   "outputs": [],
   "source": [
    "df_train = pd.read_csv('train.csv')\n",
    "df_test = pd.read_csv('test.csv')"
   ]
  },
  {
   "cell_type": "code",
   "execution_count": null,
   "metadata": {},
   "outputs": [],
   "source": [
    "import re\n",
    "import string\n",
    "\n",
    "def trim(transient_tweet_text):\n",
    "\n",
    "\t''' \n",
    "\ttrim leading and trailing spaces in the tweet text\n",
    "\t'''\n",
    "\treturn transient_tweet_text.strip()\n",
    "\n",
    "def strip_whiteSpaces(transient_tweet_text):\n",
    "\t'''\n",
    "\tStrip all white spaces\n",
    "\t'''\n",
    "\ttransient_tweet_text = re.sub(r'[\\s]+', ' ', transient_tweet_text)\n",
    "\treturn transient_tweet_text\n",
    "\n",
    "def preprocess_string(text : str) ->str:\n",
    "    # Ukloni znake interpunkcije\n",
    "    translator = str.maketrans('', '', string.punctuation)\n",
    "    text_without_punctuation = text.translate(translator)\n",
    "    \n",
    "    # Ukloni šifre - bilo koja reč koja sadrži i velika slova i brojeve\n",
    "    # pattern = r'\\b[A-Z]+[0-9]+[A-Z]+[A-Z0-9]*\\b'\n",
    "\t\n",
    "    pattern = r'\\b([A-Z]+[0-9]+[A-Z]+[A-Z0-9]*|[0-9]+[A-Z]+[0-9]*[A-Z0-9]*)\\b'\n",
    "    text_without_codes = re.sub(pattern, '', text_without_punctuation)\n",
    "    \n",
    "    # Pretvori sve u mala slova\n",
    "    result = text_without_codes.lower()\n",
    "    \n",
    "    # Ukloni višestruke razmake\n",
    "    result = trim(result)\n",
    "    \n",
    "    return strip_whiteSpaces(result)"
   ]
  },
  {
   "cell_type": "code",
   "execution_count": 7,
   "metadata": {},
   "outputs": [],
   "source": [
    "X_train = df_train['naziv'].apply(lambda x : preprocess_string(x))\n",
    "X_test = df_test['naziv'].apply(lambda x : preprocess_string(x))\n",
    "\n",
    "y_train = df_train['kategorija']\n",
    "y_test = df_test['kategorija']"
   ]
  },
  {
   "cell_type": "code",
   "execution_count": 8,
   "metadata": {},
   "outputs": [],
   "source": [
    "vectorizer = TfidfVectorizer(ngram_range=(1,2))\n",
    "\n",
    "X_train_encoded = vectorizer.fit_transform(X_train) \n",
    "X_test_encoded = vectorizer.transform(X_test)\n",
    "\n",
    "labeler = LabelEncoder()\n",
    "y_train_encoded = labeler.fit_transform(y_train)\n",
    "y_test_encoded = labeler.transform(y_test)"
   ]
  },
  {
   "cell_type": "code",
   "execution_count": 9,
   "metadata": {},
   "outputs": [],
   "source": [
    "from sklearn.linear_model import LogisticRegression\n",
    "\n",
    "model = LogisticRegression(class_weight='balanced')\n",
    "\n",
    "model.fit(X_train_encoded,y_train_encoded)\n",
    "\n",
    "y_pred = model.predict(X_test_encoded)\n"
   ]
  },
  {
   "cell_type": "code",
   "execution_count": 10,
   "metadata": {},
   "outputs": [
    {
     "data": {
      "text/plain": [
       "array([1, 5, 3, ..., 3, 9, 8])"
      ]
     },
     "execution_count": 10,
     "metadata": {},
     "output_type": "execute_result"
    }
   ],
   "source": [
    "y_pred"
   ]
  },
  {
   "cell_type": "code",
   "execution_count": 11,
   "metadata": {},
   "outputs": [],
   "source": [
    "from sklearn.metrics import f1_score, accuracy_score\n",
    "import numpy as np\n",
    "\n",
    "def compute_metrics(predictions, labels):\n",
    "    # predictions = np.argmax(predictions, axis=1)\n",
    "    \n",
    "    accuracy = accuracy_score(labels, predictions)\n",
    "    score = f1_score(labels, predictions, average=\"weighted\")\n",
    "    \n",
    "    return {\"f1\": score, \"accuracy\": accuracy}"
   ]
  },
  {
   "cell_type": "code",
   "execution_count": 12,
   "metadata": {},
   "outputs": [],
   "source": [
    "a = compute_metrics(y_pred,y_test_encoded)"
   ]
  },
  {
   "cell_type": "code",
   "execution_count": 13,
   "metadata": {},
   "outputs": [
    {
     "data": {
      "text/plain": [
       "0.9817665943794723"
      ]
     },
     "execution_count": 13,
     "metadata": {},
     "output_type": "execute_result"
    }
   ],
   "source": [
    "a['f1']\n",
    " "
   ]
  },
  {
   "cell_type": "code",
   "execution_count": 14,
   "metadata": {},
   "outputs": [
    {
     "data": {
      "text/plain": [
       "0.9817493879367906"
      ]
     },
     "execution_count": 14,
     "metadata": {},
     "output_type": "execute_result"
    }
   ],
   "source": [
    "a['accuracy']"
   ]
  },
  {
   "cell_type": "code",
   "execution_count": 15,
   "metadata": {},
   "outputs": [
    {
     "name": "stdout",
     "output_type": "stream",
     "text": [
      "{1: 'bela-tehnika', 5: 'lepota-i-zdravlje', 3: 'it-uredjaji', 8: 'telefonija', 9: 'tv-video-i-foto-tehnika', 4: 'kucni-aparati', 0: 'alati-i-bastenska-oprema', 6: 'pokucstvo', 7: 'sport-i-rekreacija', 2: 'grejanje-i-klimatizacija'}\n"
     ]
    }
   ],
   "source": [
    "\n",
    "key_to_category = {}\n",
    "for i, key in enumerate(y_test_encoded):\n",
    "    if key not in key_to_category:\n",
    "        key_to_category[key] = y_test[i]\n",
    "\n",
    "print(key_to_category)"
   ]
  },
  {
   "cell_type": "code",
   "execution_count": 34,
   "metadata": {},
   "outputs": [
    {
     "data": {
      "text/plain": [
       "{1: 'bela-tehnika',\n",
       " 5: 'lepota-i-zdravlje',\n",
       " 3: 'it-uredjaji',\n",
       " 8: 'telefonija',\n",
       " 9: 'tv-video-i-foto-tehnika',\n",
       " 4: 'kucni-aparati',\n",
       " 0: 'alati-i-bastenska-oprema',\n",
       " 6: 'pokucstvo',\n",
       " 7: 'sport-i-rekreacija',\n",
       " 2: 'grejanje-i-klimatizacija'}"
      ]
     },
     "execution_count": 34,
     "metadata": {},
     "output_type": "execute_result"
    }
   ],
   "source": [
    "key_to_category\n"
   ]
  },
  {
   "cell_type": "code",
   "execution_count": 17,
   "metadata": {},
   "outputs": [
    {
     "name": "stdout",
     "output_type": "stream",
     "text": [
      "apple mobilni telefon iphone 14 pro max space black mq9p3sxa\n",
      "telefonija\n"
     ]
    }
   ],
   "source": [
    "print(X_test[505])\n",
    "print(key_to_category[y_pred[505]])"
   ]
  },
  {
   "cell_type": "code",
   "execution_count": 18,
   "metadata": {},
   "outputs": [
    {
     "name": "stdout",
     "output_type": "stream",
     "text": [
      "{0: 124, 1: 964, 2: 202, 3: 1233, 4: 663, 5: 303, 6: 199, 7: 240, 8: 293, 9: 272}\n"
     ]
    }
   ],
   "source": [
    "import numpy as np\n",
    "unique, counts = np.unique(y_pred, return_counts=True)\n",
    "print(dict(zip(unique, counts)))"
   ]
  },
  {
   "cell_type": "code",
   "execution_count": 21,
   "metadata": {},
   "outputs": [
    {
     "name": "stdout",
     "output_type": "stream",
     "text": [
      "              precision    recall  f1-score   support\n",
      "\n",
      "           0       1.00      0.97      0.98       128\n",
      "           1       1.00      0.99      0.99       974\n",
      "           2       0.95      0.98      0.97       195\n",
      "           3       0.98      0.99      0.99      1222\n",
      "           4       0.99      0.97      0.98       676\n",
      "           5       0.95      0.99      0.97       290\n",
      "           6       0.97      0.96      0.97       202\n",
      "           7       0.98      0.99      0.98       238\n",
      "           8       0.99      0.99      0.99       294\n",
      "           9       0.96      0.95      0.95       274\n",
      "\n",
      "    accuracy                           0.98      4493\n",
      "   macro avg       0.98      0.98      0.98      4493\n",
      "weighted avg       0.98      0.98      0.98      4493\n",
      "\n"
     ]
    }
   ],
   "source": [
    "from sklearn.metrics import classification_report\n",
    "print(classification_report(y_test_encoded, y_pred))"
   ]
  },
  {
   "cell_type": "code",
   "execution_count": 22,
   "metadata": {},
   "outputs": [],
   "source": [
    "import pandas as pd\n",
    "\n",
    "def check_train_test_overlap(train_path, test_path, key_columns=None):\n",
    "    # Load datasets\n",
    "    train = pd.read_csv(train_path)\n",
    "    test = pd.read_csv(test_path)\n",
    "    \n",
    "    # Use all columns if key_columns not specified\n",
    "    if key_columns is None:\n",
    "        key_columns = train.columns.tolist()\n",
    "    \n",
    "    # Find duplicates\n",
    "    duplicates = pd.merge(train, test, how='inner', on=key_columns)\n",
    "    \n",
    "    # Prepare results\n",
    "    results = {\n",
    "        'train_samples': len(train),\n",
    "        'test_samples': len(test),\n",
    "        'duplicate_samples': len(duplicates),\n",
    "        'duplicate_percentage': len(duplicates) / len(test) * 100,\n",
    "        'duplicate_columns': key_columns,\n",
    "        'duplicate_examples': duplicates.head(3).to_dict('records') if len(duplicates) > 0 else None\n",
    "    }\n",
    "    \n",
    "    return results\n",
    "\n"
   ]
  },
  {
   "cell_type": "code",
   "execution_count": 23,
   "metadata": {},
   "outputs": [
    {
     "data": {
      "text/plain": [
       "{'train_samples': 18222,\n",
       " 'test_samples': 4493,\n",
       " 'duplicate_samples': 0,\n",
       " 'duplicate_percentage': 0.0,\n",
       " 'duplicate_columns': ['naziv', 'kategorija'],\n",
       " 'duplicate_examples': None}"
      ]
     },
     "execution_count": 23,
     "metadata": {},
     "output_type": "execute_result"
    }
   ],
   "source": [
    "check_train_test_overlap('train.csv','test.csv')"
   ]
  },
  {
   "cell_type": "code",
   "execution_count": 27,
   "metadata": {},
   "outputs": [],
   "source": [
    "from sklearn.base import BaseEstimator, TransformerMixin\n",
    "from sklearn.pipeline import Pipeline\n",
    "\n",
    "class TextPreprocessor(BaseEstimator, TransformerMixin):\n",
    "    def fit(self, X, y=None):\n",
    "        return self\n",
    "    \n",
    "    def transform(self, X):\n",
    "        return [preprocess_string(text) for text in X]\n",
    "\n",
    "# Kreiranje pipeline-a\n",
    "pipeline = Pipeline([\n",
    "    ('preprocessor', TextPreprocessor()),\n",
    "    ('vectorizer', vectorizer),\n",
    "    ('classifier', model)\n",
    "])"
   ]
  },
  {
   "cell_type": "code",
   "execution_count": 32,
   "metadata": {},
   "outputs": [
    {
     "data": {
      "text/plain": [
       "'bela-tehnika'"
      ]
     },
     "execution_count": 32,
     "metadata": {},
     "output_type": "execute_result"
    }
   ],
   "source": [
    "key_to_category[pipeline.predict(['Bosch Rerna ugradna']).item()]"
   ]
  },
  {
   "cell_type": "code",
   "execution_count": 33,
   "metadata": {},
   "outputs": [
    {
     "data": {
      "text/plain": [
       "['pipeline.pkl']"
      ]
     },
     "execution_count": 33,
     "metadata": {},
     "output_type": "execute_result"
    }
   ],
   "source": [
    "import joblib\n",
    "\n",
    "# Pretpostavimo da je 'pipeline' tvoj trenirani pipeline\n",
    "joblib.dump(pipeline, 'pipeline.pkl')"
   ]
  },
  {
   "cell_type": "code",
   "execution_count": null,
   "metadata": {},
   "outputs": [],
   "source": []
  }
 ],
 "metadata": {
  "kernelspec": {
   "display_name": "nlp_ml",
   "language": "python",
   "name": "python3"
  },
  "language_info": {
   "codemirror_mode": {
    "name": "ipython",
    "version": 3
   },
   "file_extension": ".py",
   "mimetype": "text/x-python",
   "name": "python",
   "nbconvert_exporter": "python",
   "pygments_lexer": "ipython3",
   "version": "3.12.3"
  }
 },
 "nbformat": 4,
 "nbformat_minor": 2
}
